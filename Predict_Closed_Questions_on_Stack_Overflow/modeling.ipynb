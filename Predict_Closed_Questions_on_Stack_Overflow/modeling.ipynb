{
 "cells": [
  {
   "cell_type": "code",
   "execution_count": 1,
   "metadata": {},
   "outputs": [],
   "source": [
    "%load_ext autoreload\n",
    "%autoreload 2"
   ]
  },
  {
   "cell_type": "code",
   "execution_count": 2,
   "metadata": {},
   "outputs": [
    {
     "name": "stderr",
     "output_type": "stream",
     "text": [
      "2022-05-30 11:23:27.295950: I tensorflow/stream_executor/platform/default/dso_loader.cc:48] Successfully opened dynamic library libcudart.so.10.1\n"
     ]
    }
   ],
   "source": [
    "import math\n",
    "\n",
    "import numpy as np\n",
    "import pandas as pd\n",
    "import torch\n",
    "from torch.utils.tensorboard import SummaryWriter\n",
    "from sklearn.model_selection import train_test_split\n",
    "from sklearn.preprocessing import LabelEncoder\n",
    "from sklearn.utils.class_weight import compute_class_weight\n",
    "from transformers import AutoModelForSequenceClassification, AutoTokenizer\n",
    "from tqdm import tqdm, trange\n",
    "\n",
    "from dataset import Collator, Dataset\n",
    "from metrics import compute_metrics_on_df\n",
    "from train import train\n",
    "from utils import chunks, set_global_seed"
   ]
  },
  {
   "cell_type": "code",
   "execution_count": 3,
   "metadata": {},
   "outputs": [],
   "source": [
    "# reproducibility\n",
    "set_global_seed(42)"
   ]
  },
  {
   "cell_type": "code",
   "execution_count": 4,
   "metadata": {},
   "outputs": [],
   "source": [
    "# parameters\n",
    "config = {\n",
    "    'MODEL_NAME':    'distilroberta-base',\n",
    "    'BATCH_SIZE':    64,\n",
    "    'LEARNING_RATE': 1e-5,\n",
    "    'N_EPOCHS':      5,\n",
    "    'CLASS_WEIGHT':  'balanced',\n",
    "}"
   ]
  },
  {
   "cell_type": "code",
   "execution_count": 5,
   "metadata": {},
   "outputs": [],
   "source": [
    "# tensorboard\n",
    "experiment_name = f\"MODEL_{config['MODEL_NAME']}_BATCH_{config['BATCH_SIZE']}_LR_{config['LEARNING_RATE']}_CLASS_WEIGHT_{config['CLASS_WEIGHT']}\"\n",
    "\n",
    "writer = SummaryWriter(\n",
    "    log_dir=f\"runs/{experiment_name}\",\n",
    ")"
   ]
  },
  {
   "cell_type": "code",
   "execution_count": 6,
   "metadata": {},
   "outputs": [
    {
     "data": {
      "text/plain": [
       "device(type='cuda')"
      ]
     },
     "execution_count": 6,
     "metadata": {},
     "output_type": "execute_result"
    }
   ],
   "source": [
    "# device\n",
    "device = torch.device('cuda' if torch.cuda.is_available() else 'cpu')\n",
    "device"
   ]
  },
  {
   "cell_type": "markdown",
   "metadata": {},
   "source": [
    "### prepare data"
   ]
  },
  {
   "cell_type": "code",
   "execution_count": 7,
   "metadata": {},
   "outputs": [],
   "source": [
    "df = pd.read_csv('./data/train.csv', usecols=['Title', 'BodyMarkdown', 'OpenStatus'])\n",
    "df.fillna('', inplace=True)\n",
    "\n",
    "df['Title'] = df['Title'].str.lower()\n",
    "df['BodyMarkdown'] = df['BodyMarkdown'].str.lower()"
   ]
  },
  {
   "cell_type": "code",
   "execution_count": 8,
   "metadata": {},
   "outputs": [
    {
     "data": {
      "text/html": [
       "<div>\n",
       "<style scoped>\n",
       "    .dataframe tbody tr th:only-of-type {\n",
       "        vertical-align: middle;\n",
       "    }\n",
       "\n",
       "    .dataframe tbody tr th {\n",
       "        vertical-align: top;\n",
       "    }\n",
       "\n",
       "    .dataframe thead th {\n",
       "        text-align: right;\n",
       "    }\n",
       "</style>\n",
       "<table border=\"1\" class=\"dataframe\">\n",
       "  <thead>\n",
       "    <tr style=\"text-align: right;\">\n",
       "      <th></th>\n",
       "      <th>Title</th>\n",
       "      <th>BodyMarkdown</th>\n",
       "      <th>OpenStatus</th>\n",
       "    </tr>\n",
       "  </thead>\n",
       "  <tbody>\n",
       "    <tr>\n",
       "      <th>0</th>\n",
       "      <td>decimal vs double?</td>\n",
       "      <td>i'm new to c#, and i want to use a trackbar fo...</td>\n",
       "      <td>open</td>\n",
       "    </tr>\n",
       "    <tr>\n",
       "      <th>1</th>\n",
       "      <td>percentage width child in absolutely positione...</td>\n",
       "      <td>i've got an absolutely positioned div containi...</td>\n",
       "      <td>open</td>\n",
       "    </tr>\n",
       "    <tr>\n",
       "      <th>2</th>\n",
       "      <td>tools for porting j# code to c#</td>\n",
       "      <td>are there any conversion tools for porting vis...</td>\n",
       "      <td>open</td>\n",
       "    </tr>\n",
       "    <tr>\n",
       "      <th>3</th>\n",
       "      <td>how do i calculate someone's age in c#?</td>\n",
       "      <td>given a datetime representing their birthday, ...</td>\n",
       "      <td>open</td>\n",
       "    </tr>\n",
       "    <tr>\n",
       "      <th>4</th>\n",
       "      <td>retrieve data from nsuserdefaults to tableview</td>\n",
       "      <td>i save values of two labels through nsuserdefa...</td>\n",
       "      <td>open</td>\n",
       "    </tr>\n",
       "    <tr>\n",
       "      <th>...</th>\n",
       "      <td>...</td>\n",
       "      <td>...</td>\n",
       "      <td>...</td>\n",
       "    </tr>\n",
       "    <tr>\n",
       "      <th>3370523</th>\n",
       "      <td>dividing an array by filter function</td>\n",
       "      <td>i have a javascript array that i would like to...</td>\n",
       "      <td>open</td>\n",
       "    </tr>\n",
       "    <tr>\n",
       "      <th>3370524</th>\n",
       "      <td>javascript link extractor</td>\n",
       "      <td>i am interested in extracting links from sites...</td>\n",
       "      <td>open</td>\n",
       "    </tr>\n",
       "    <tr>\n",
       "      <th>3370525</th>\n",
       "      <td>selenium remote webdriver insane memory usage</td>\n",
       "      <td>i've created a small python script to run test...</td>\n",
       "      <td>open</td>\n",
       "    </tr>\n",
       "    <tr>\n",
       "      <th>3370526</th>\n",
       "      <td>searching through an array of dictionaries</td>\n",
       "      <td>i'm making an iphone app which displays inform...</td>\n",
       "      <td>open</td>\n",
       "    </tr>\n",
       "    <tr>\n",
       "      <th>3370527</th>\n",
       "      <td>vb.net - array of integers needs to be instant...</td>\n",
       "      <td>first try\\r\\n\\r\\n    dim holdvalues() as integ...</td>\n",
       "      <td>open</td>\n",
       "    </tr>\n",
       "  </tbody>\n",
       "</table>\n",
       "<p>3370528 rows × 3 columns</p>\n",
       "</div>"
      ],
      "text/plain": [
       "                                                     Title  \\\n",
       "0                                       decimal vs double?   \n",
       "1        percentage width child in absolutely positione...   \n",
       "2                          tools for porting j# code to c#   \n",
       "3                  how do i calculate someone's age in c#?   \n",
       "4           retrieve data from nsuserdefaults to tableview   \n",
       "...                                                    ...   \n",
       "3370523               dividing an array by filter function   \n",
       "3370524                          javascript link extractor   \n",
       "3370525      selenium remote webdriver insane memory usage   \n",
       "3370526         searching through an array of dictionaries   \n",
       "3370527  vb.net - array of integers needs to be instant...   \n",
       "\n",
       "                                              BodyMarkdown OpenStatus  \n",
       "0        i'm new to c#, and i want to use a trackbar fo...       open  \n",
       "1        i've got an absolutely positioned div containi...       open  \n",
       "2        are there any conversion tools for porting vis...       open  \n",
       "3        given a datetime representing their birthday, ...       open  \n",
       "4        i save values of two labels through nsuserdefa...       open  \n",
       "...                                                    ...        ...  \n",
       "3370523  i have a javascript array that i would like to...       open  \n",
       "3370524  i am interested in extracting links from sites...       open  \n",
       "3370525  i've created a small python script to run test...       open  \n",
       "3370526  i'm making an iphone app which displays inform...       open  \n",
       "3370527  first try\\r\\n\\r\\n    dim holdvalues() as integ...       open  \n",
       "\n",
       "[3370528 rows x 3 columns]"
      ]
     },
     "execution_count": 8,
     "metadata": {},
     "output_type": "execute_result"
    }
   ],
   "source": [
    "df"
   ]
  },
  {
   "cell_type": "code",
   "execution_count": 9,
   "metadata": {},
   "outputs": [
    {
     "data": {
      "text/plain": [
       "open                   3300392\n",
       "not a real question      30789\n",
       "off topic                17530\n",
       "not constructive         15659\n",
       "too localized             6158\n",
       "Name: OpenStatus, dtype: int64"
      ]
     },
     "execution_count": 9,
     "metadata": {},
     "output_type": "execute_result"
    }
   ],
   "source": [
    "df['OpenStatus'].value_counts()"
   ]
  },
  {
   "cell_type": "code",
   "execution_count": 10,
   "metadata": {},
   "outputs": [],
   "source": [
    "# undersampling\n",
    "df = pd.concat([\n",
    "    df[df['OpenStatus'] == 'open'].sample(100000, random_state=42),\n",
    "    df[df['OpenStatus'] != 'open'],\n",
    "])"
   ]
  },
  {
   "cell_type": "code",
   "execution_count": 11,
   "metadata": {},
   "outputs": [
    {
     "data": {
      "text/plain": [
       "open                   100000\n",
       "not a real question     30789\n",
       "off topic               17530\n",
       "not constructive        15659\n",
       "too localized            6158\n",
       "Name: OpenStatus, dtype: int64"
      ]
     },
     "execution_count": 11,
     "metadata": {},
     "output_type": "execute_result"
    }
   ],
   "source": [
    "df['OpenStatus'].value_counts()"
   ]
  },
  {
   "cell_type": "code",
   "execution_count": 12,
   "metadata": {},
   "outputs": [],
   "source": [
    "df_train, df_test = train_test_split(\n",
    "    df,\n",
    "    test_size=0.25,\n",
    "    random_state=42,\n",
    "    shuffle=True,\n",
    "    stratify=df['OpenStatus'],\n",
    ")"
   ]
  },
  {
   "cell_type": "code",
   "execution_count": 13,
   "metadata": {},
   "outputs": [
    {
     "name": "stdout",
     "output_type": "stream",
     "text": [
      "Train size: 127602\n",
      "Test size: 42534\n"
     ]
    }
   ],
   "source": [
    "print(f'Train size: {df_train.shape[0]}')\n",
    "print(f'Test size: {df_test.shape[0]}')"
   ]
  },
  {
   "cell_type": "code",
   "execution_count": 14,
   "metadata": {},
   "outputs": [],
   "source": [
    "le = LabelEncoder()\n",
    "\n",
    "df_train['OpenStatus'] = le.fit_transform(df_train['OpenStatus'])\n",
    "df_test['OpenStatus'] = le.transform(df_test['OpenStatus'])"
   ]
  },
  {
   "cell_type": "code",
   "execution_count": 15,
   "metadata": {},
   "outputs": [],
   "source": [
    "train_dataset = Dataset(df=df_train)\n",
    "test_dataset = Dataset(df=df_test)"
   ]
  },
  {
   "cell_type": "markdown",
   "metadata": {},
   "source": [
    "### load bert model"
   ]
  },
  {
   "cell_type": "code",
   "execution_count": 16,
   "metadata": {},
   "outputs": [],
   "source": [
    "tokenizer = AutoTokenizer.from_pretrained(config['MODEL_NAME'])"
   ]
  },
  {
   "cell_type": "code",
   "execution_count": 17,
   "metadata": {},
   "outputs": [],
   "source": [
    "tokenizer_kwargs = {\n",
    "    'return_tensors': 'pt',\n",
    "    'padding':        True,\n",
    "    'truncation':     True,\n",
    "    'max_length':     512,\n",
    "}\n",
    "\n",
    "collate_fn = Collator(tokenizer, tokenizer_kwargs)"
   ]
  },
  {
   "cell_type": "code",
   "execution_count": 18,
   "metadata": {},
   "outputs": [],
   "source": [
    "train_dataloader = torch.utils.data.DataLoader(\n",
    "    dataset=train_dataset,\n",
    "    batch_size=config['BATCH_SIZE'],\n",
    "    shuffle=True,\n",
    "    collate_fn=collate_fn,\n",
    ")\n",
    "test_dataloader = torch.utils.data.DataLoader(\n",
    "    dataset=test_dataset,\n",
    "    batch_size=config['BATCH_SIZE'],\n",
    "    shuffle=False,\n",
    "    collate_fn=collate_fn,\n",
    ")"
   ]
  },
  {
   "cell_type": "markdown",
   "metadata": {},
   "source": [
    "### train model"
   ]
  },
  {
   "cell_type": "code",
   "execution_count": 19,
   "metadata": {},
   "outputs": [
    {
     "name": "stderr",
     "output_type": "stream",
     "text": [
      "Some weights of the model checkpoint at distilroberta-base were not used when initializing RobertaForSequenceClassification: ['roberta.pooler.dense.bias', 'lm_head.dense.bias', 'lm_head.dense.weight', 'lm_head.layer_norm.bias', 'lm_head.bias', 'lm_head.layer_norm.weight', 'roberta.pooler.dense.weight', 'lm_head.decoder.weight']\n",
      "- This IS expected if you are initializing RobertaForSequenceClassification from the checkpoint of a model trained on another task or with another architecture (e.g. initializing a BertForSequenceClassification model from a BertForPreTraining model).\n",
      "- This IS NOT expected if you are initializing RobertaForSequenceClassification from the checkpoint of a model that you expect to be exactly identical (initializing a BertForSequenceClassification model from a BertForSequenceClassification model).\n",
      "Some weights of RobertaForSequenceClassification were not initialized from the model checkpoint at distilroberta-base and are newly initialized: ['classifier.out_proj.bias', 'classifier.dense.weight', 'classifier.out_proj.weight', 'classifier.dense.bias']\n",
      "You should probably TRAIN this model on a down-stream task to be able to use it for predictions and inference.\n"
     ]
    }
   ],
   "source": [
    "model = AutoModelForSequenceClassification.from_pretrained(\n",
    "    config['MODEL_NAME'],\n",
    "    num_labels=df_train['OpenStatus'].nunique(),\n",
    ").to(device)"
   ]
  },
  {
   "cell_type": "code",
   "execution_count": 20,
   "metadata": {},
   "outputs": [],
   "source": [
    "optimizer = torch.optim.Adam(model.parameters(), lr=config['LEARNING_RATE'])"
   ]
  },
  {
   "cell_type": "code",
   "execution_count": 21,
   "metadata": {},
   "outputs": [
    {
     "data": {
      "text/plain": [
       "tensor([1.1052, 2.1731, 1.9412, 0.3403, 5.5251], device='cuda:0')"
      ]
     },
     "execution_count": 21,
     "metadata": {},
     "output_type": "execute_result"
    }
   ],
   "source": [
    "class_weight = compute_class_weight(\n",
    "    class_weight='balanced',\n",
    "    classes=np.unique(df_train['OpenStatus']),\n",
    "    y=df_train['OpenStatus'].values,\n",
    ")\n",
    "\n",
    "class_weight = torch.Tensor(class_weight).to(device)\n",
    "class_weight"
   ]
  },
  {
   "cell_type": "code",
   "execution_count": 22,
   "metadata": {},
   "outputs": [],
   "source": [
    "criterion = torch.nn.CrossEntropyLoss(weight=class_weight)"
   ]
  },
  {
   "cell_type": "code",
   "execution_count": 23,
   "metadata": {},
   "outputs": [
    {
     "name": "stdout",
     "output_type": "stream",
     "text": [
      "Epoch [1 / 5]\n",
      "\n"
     ]
    },
    {
     "name": "stderr",
     "output_type": "stream",
     "text": [
      "loop over train batches: 100%|██████████| 1994/1994 [41:41<00:00,  1.25s/it]\n"
     ]
    },
    {
     "name": "stdout",
     "output_type": "stream",
     "text": [
      "Train loss: 1.100256936988955\n",
      "\n",
      "Train metrics:\n",
      "{'accuracy': 0.5575226093634896, 'precision_micro': 0.5575226093634896, 'precision_macro': 0.4730906891364981, 'precision_weighted': 0.6895011861027994, 'recall_micro': 0.5575226093634896, 'recall_macro': 0.5697467381006119, 'recall_weighted': 0.5575226093634896, 'f1_micro': 0.5575226093634896, 'f1_macro': 0.4813732844935303, 'f1_weighted': 0.5942956841467766}\n",
      "\n"
     ]
    },
    {
     "name": "stderr",
     "output_type": "stream",
     "text": [
      "loop over test batches: 100%|██████████| 665/665 [03:43<00:00,  2.97it/s]\n"
     ]
    },
    {
     "name": "stdout",
     "output_type": "stream",
     "text": [
      "Test loss:  1.0228022185483374\n",
      "\n",
      "Test metrics:\n",
      "{'accuracy': 0.5662763906521842, 'precision_micro': 0.5662763906521842, 'precision_macro': 0.49356763708248524, 'precision_weighted': 0.720319042467236, 'recall_micro': 0.5662763906521842, 'recall_macro': 0.6005731990619637, 'recall_weighted': 0.5662763906521842, 'f1_micro': 0.5662763906521842, 'f1_macro': 0.4943120258206526, 'f1_weighted': 0.6057944057478977}\n",
      "\n",
      "Epoch [2 / 5]\n",
      "\n"
     ]
    },
    {
     "name": "stderr",
     "output_type": "stream",
     "text": [
      "loop over train batches: 100%|██████████| 1994/1994 [41:41<00:00,  1.25s/it]\n"
     ]
    },
    {
     "name": "stdout",
     "output_type": "stream",
     "text": [
      "Train loss: 0.9781770593185004\n",
      "\n",
      "Train metrics:\n",
      "{'accuracy': 0.6166361028824, 'precision_micro': 0.6166361028824, 'precision_macro': 0.5206169071665674, 'precision_weighted': 0.7287762387627867, 'recall_micro': 0.6166361028824, 'recall_macro': 0.6302939882970201, 'recall_weighted': 0.6166361028824, 'f1_micro': 0.6166361028824, 'f1_macro': 0.5356855659589488, 'f1_weighted': 0.6488616691587002}\n",
      "\n"
     ]
    },
    {
     "name": "stderr",
     "output_type": "stream",
     "text": [
      "loop over test batches: 100%|██████████| 665/665 [03:43<00:00,  2.97it/s]\n"
     ]
    },
    {
     "name": "stdout",
     "output_type": "stream",
     "text": [
      "Test loss:  0.9972877860069275\n",
      "\n",
      "Test metrics:\n",
      "{'accuracy': 0.6068086707104904, 'precision_micro': 0.6068086707104904, 'precision_macro': 0.5110351347449565, 'precision_weighted': 0.7248661303851771, 'recall_micro': 0.6068086707104904, 'recall_macro': 0.6098378012685325, 'recall_weighted': 0.6068086707104904, 'f1_micro': 0.6068086707104904, 'f1_macro': 0.5211384310475953, 'f1_weighted': 0.6415076154832634}\n",
      "\n",
      "Epoch [3 / 5]\n",
      "\n"
     ]
    },
    {
     "name": "stderr",
     "output_type": "stream",
     "text": [
      "loop over train batches: 100%|██████████| 1994/1994 [41:44<00:00,  1.26s/it]\n"
     ]
    },
    {
     "name": "stdout",
     "output_type": "stream",
     "text": [
      "Train loss: 0.9216405626763791\n",
      "\n",
      "Train metrics:\n",
      "{'accuracy': 0.6379758937947682, 'precision_micro': 0.6379758937947682, 'precision_macro': 0.5408290651312329, 'precision_weighted': 0.7433540659778224, 'recall_micro': 0.6379758937947682, 'recall_macro': 0.6597751442664628, 'recall_weighted': 0.6379758937947682, 'f1_micro': 0.6379758937947682, 'f1_macro': 0.5597005813116028, 'f1_weighted': 0.6678168206576129}\n",
      "\n"
     ]
    },
    {
     "name": "stderr",
     "output_type": "stream",
     "text": [
      "loop over test batches: 100%|██████████| 665/665 [03:44<00:00,  2.97it/s]\n"
     ]
    },
    {
     "name": "stdout",
     "output_type": "stream",
     "text": [
      "Test loss:  0.9961506276202381\n",
      "\n",
      "Test metrics:\n",
      "{'accuracy': 0.6064325010579772, 'precision_micro': 0.6064325010579772, 'precision_macro': 0.5049156086846154, 'precision_weighted': 0.7254055641863599, 'recall_micro': 0.6064325010579772, 'recall_macro': 0.6102200641527542, 'recall_weighted': 0.6064325010579772, 'f1_micro': 0.6064325010579772, 'f1_macro': 0.5203925490713935, 'f1_weighted': 0.6393880191128092}\n",
      "\n",
      "Epoch [4 / 5]\n",
      "\n"
     ]
    },
    {
     "name": "stderr",
     "output_type": "stream",
     "text": [
      "loop over train batches: 100%|██████████| 1994/1994 [41:47<00:00,  1.26s/it]\n"
     ]
    },
    {
     "name": "stdout",
     "output_type": "stream",
     "text": [
      "Train loss: 0.8632925877958506\n",
      "\n",
      "Train metrics:\n",
      "{'accuracy': 0.6554677826366357, 'precision_micro': 0.6554677826366357, 'precision_macro': 0.5586974664788299, 'precision_weighted': 0.7566510600414196, 'recall_micro': 0.6554677826366357, 'recall_macro': 0.6907942154915248, 'recall_weighted': 0.6554677826366357, 'f1_micro': 0.6554677826366357, 'f1_macro': 0.5816427931037501, 'f1_weighted': 0.6828457939787904}\n",
      "\n"
     ]
    },
    {
     "name": "stderr",
     "output_type": "stream",
     "text": [
      "loop over test batches: 100%|██████████| 665/665 [03:44<00:00,  2.97it/s]\n"
     ]
    },
    {
     "name": "stdout",
     "output_type": "stream",
     "text": [
      "Test loss:  1.0357164797029996\n",
      "\n",
      "Test metrics:\n",
      "{'accuracy': 0.6429914891616119, 'precision_micro': 0.6429914891616119, 'precision_macro': 0.5210909490402752, 'precision_weighted': 0.7206425626393085, 'recall_micro': 0.6429914891616119, 'recall_macro': 0.604661009781694, 'recall_weighted': 0.6429914891616119, 'f1_micro': 0.6429914891616119, 'f1_macro': 0.5397012883053967, 'f1_weighted': 0.6688691510186983}\n",
      "\n",
      "Epoch [5 / 5]\n",
      "\n"
     ]
    },
    {
     "name": "stderr",
     "output_type": "stream",
     "text": [
      "loop over train batches: 100%|██████████| 1994/1994 [41:49<00:00,  1.26s/it]\n"
     ]
    },
    {
     "name": "stdout",
     "output_type": "stream",
     "text": [
      "Train loss: 0.8046740387064762\n",
      "\n",
      "Train metrics:\n",
      "{'accuracy': 0.6737668688578549, 'precision_micro': 0.6737668688578549, 'precision_macro': 0.5795982572857316, 'precision_weighted': 0.7697782689508855, 'recall_micro': 0.6737668688578549, 'recall_macro': 0.7256667340603846, 'recall_weighted': 0.6737668688578549, 'f1_micro': 0.6737668688578549, 'f1_macro': 0.6064150593120464, 'f1_weighted': 0.698732140216473}\n",
      "\n"
     ]
    },
    {
     "name": "stderr",
     "output_type": "stream",
     "text": [
      "loop over test batches: 100%|██████████| 665/665 [03:44<00:00,  2.96it/s]"
     ]
    },
    {
     "name": "stdout",
     "output_type": "stream",
     "text": [
      "Test loss:  1.0579450194996998\n",
      "\n",
      "Test metrics:\n",
      "{'accuracy': 0.6041754831428975, 'precision_micro': 0.6041754831428975, 'precision_macro': 0.5143968604645925, 'precision_weighted': 0.72382863220028, 'recall_micro': 0.6041754831428975, 'recall_macro': 0.6036832982628126, 'recall_weighted': 0.6041754831428975, 'f1_micro': 0.6041754831428975, 'f1_macro': 0.5206008760158995, 'f1_weighted': 0.6414028734173254}\n",
      "\n"
     ]
    },
    {
     "name": "stderr",
     "output_type": "stream",
     "text": [
      "\n"
     ]
    }
   ],
   "source": [
    "train(\n",
    "    n_epochs=config['N_EPOCHS'],\n",
    "    model=model,\n",
    "    train_dataloader=train_dataloader,\n",
    "    test_dataloader=test_dataloader,\n",
    "    optimizer=optimizer,\n",
    "    criterion=criterion,\n",
    "    writer=writer,\n",
    "    device=device,\n",
    ")"
   ]
  },
  {
   "cell_type": "code",
   "execution_count": 24,
   "metadata": {},
   "outputs": [],
   "source": [
    "model.save_pretrained(experiment_name)"
   ]
  },
  {
   "cell_type": "markdown",
   "metadata": {},
   "source": [
    "### evaluate model"
   ]
  },
  {
   "cell_type": "code",
   "execution_count": 25,
   "metadata": {},
   "outputs": [],
   "source": [
    "model = AutoModelForSequenceClassification.from_pretrained(experiment_name)\n",
    "\n",
    "model.to(device)\n",
    "model.eval();"
   ]
  },
  {
   "cell_type": "code",
   "execution_count": 26,
   "metadata": {},
   "outputs": [
    {
     "name": "stderr",
     "output_type": "stream",
     "text": [
      "inference: 100%|██████████| 1994/1994 [10:51<00:00,  3.06it/s]\n"
     ]
    }
   ],
   "source": [
    "train_metrics = compute_metrics_on_df(\n",
    "    model=model,\n",
    "    df=df_train,\n",
    "    tokenizer=tokenizer,\n",
    "    tokenizer_kwargs=tokenizer_kwargs,\n",
    "    batch_size=config['BATCH_SIZE'],\n",
    "    device=device,\n",
    ")"
   ]
  },
  {
   "cell_type": "code",
   "execution_count": 27,
   "metadata": {},
   "outputs": [
    {
     "data": {
      "text/plain": [
       "{'accuracy': 0.6757339226657889,\n",
       " 'precision_micro': 0.6757339226657889,\n",
       " 'precision_macro': 0.5985318031314628,\n",
       " 'precision_weighted': 0.7866684036510283,\n",
       " 'recall_micro': 0.6757339226657889,\n",
       " 'recall_macro': 0.7512254049866977,\n",
       " 'recall_weighted': 0.6757339226657889,\n",
       " 'f1_micro': 0.6757339226657889,\n",
       " 'f1_macro': 0.6187349648220093,\n",
       " 'f1_weighted': 0.704496895839678}"
      ]
     },
     "execution_count": 27,
     "metadata": {},
     "output_type": "execute_result"
    }
   ],
   "source": [
    "train_metrics"
   ]
  },
  {
   "cell_type": "code",
   "execution_count": 28,
   "metadata": {},
   "outputs": [
    {
     "name": "stderr",
     "output_type": "stream",
     "text": [
      "inference: 100%|██████████| 665/665 [03:36<00:00,  3.07it/s]\n"
     ]
    }
   ],
   "source": [
    "test_metrics = compute_metrics_on_df(\n",
    "    model=model,\n",
    "    df=df_test,\n",
    "    tokenizer=tokenizer,\n",
    "    tokenizer_kwargs=tokenizer_kwargs,\n",
    "    batch_size=config['BATCH_SIZE'],\n",
    "    device=device,\n",
    ")"
   ]
  },
  {
   "cell_type": "code",
   "execution_count": 29,
   "metadata": {
    "scrolled": true
   },
   "outputs": [
    {
     "data": {
      "text/plain": [
       "{'accuracy': 0.6041754831428975,\n",
       " 'precision_micro': 0.6041754831428975,\n",
       " 'precision_macro': 0.5143968604645925,\n",
       " 'precision_weighted': 0.72382863220028,\n",
       " 'recall_micro': 0.6041754831428975,\n",
       " 'recall_macro': 0.6036832982628126,\n",
       " 'recall_weighted': 0.6041754831428975,\n",
       " 'f1_micro': 0.6041754831428975,\n",
       " 'f1_macro': 0.5206008760158995,\n",
       " 'f1_weighted': 0.6414028734173254}"
      ]
     },
     "execution_count": 29,
     "metadata": {},
     "output_type": "execute_result"
    }
   ],
   "source": [
    "test_metrics"
   ]
  },
  {
   "cell_type": "code",
   "execution_count": null,
   "metadata": {},
   "outputs": [],
   "source": []
  }
 ],
 "metadata": {
  "interpreter": {
   "hash": "1457a1728d05db363c00391e3074737c9ebdc2935a146b6baa1e446523e7e6bf"
  },
  "kernelspec": {
   "display_name": "Python 3 (ipykernel)",
   "language": "python",
   "name": "python3"
  },
  "language_info": {
   "codemirror_mode": {
    "name": "ipython",
    "version": 3
   },
   "file_extension": ".py",
   "mimetype": "text/x-python",
   "name": "python",
   "nbconvert_exporter": "python",
   "pygments_lexer": "ipython3",
   "version": "3.7.12"
  }
 },
 "nbformat": 4,
 "nbformat_minor": 2
}

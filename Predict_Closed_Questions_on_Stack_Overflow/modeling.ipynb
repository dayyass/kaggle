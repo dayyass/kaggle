{
 "cells": [
  {
   "cell_type": "code",
   "execution_count": 1,
   "metadata": {},
   "outputs": [],
   "source": [
    "%load_ext autoreload\n",
    "%autoreload 2"
   ]
  },
  {
   "cell_type": "code",
   "execution_count": 2,
   "metadata": {},
   "outputs": [
    {
     "name": "stderr",
     "output_type": "stream",
     "text": [
      "2022-05-29 23:39:00.404416: I tensorflow/stream_executor/platform/default/dso_loader.cc:48] Successfully opened dynamic library libcudart.so.10.1\n"
     ]
    }
   ],
   "source": [
    "import math\n",
    "\n",
    "import numpy as np\n",
    "import pandas as pd\n",
    "import torch\n",
    "from torch.utils.tensorboard import SummaryWriter\n",
    "from sklearn.model_selection import train_test_split\n",
    "from sklearn.preprocessing import LabelEncoder\n",
    "from transformers import AutoModelForSequenceClassification, AutoTokenizer\n",
    "from tqdm import tqdm, trange\n",
    "\n",
    "from dataset import Collator, Dataset\n",
    "from metrics import compute_metrics_on_df\n",
    "from train import train\n",
    "from utils import chunks, set_global_seed"
   ]
  },
  {
   "cell_type": "code",
   "execution_count": 3,
   "metadata": {},
   "outputs": [],
   "source": [
    "# reproducibility\n",
    "set_global_seed(42)"
   ]
  },
  {
   "cell_type": "code",
   "execution_count": 4,
   "metadata": {},
   "outputs": [],
   "source": [
    "# parameters\n",
    "config = {\n",
    "    'MODEL_NAME':    'distilroberta-base',\n",
    "    'BATCH_SIZE':    64,\n",
    "    'LEARNING_RATE': 1e-5,\n",
    "    'N_EPOCHS':      10,\n",
    "    'CLASS_WEIGHT':  None,\n",
    "}"
   ]
  },
  {
   "cell_type": "code",
   "execution_count": 5,
   "metadata": {},
   "outputs": [],
   "source": [
    "# tensorboard\n",
    "experiment_name = f\"MODEL_{config['MODEL_NAME']}_BATCH_{config['BATCH_SIZE']}_LR_{config['LEARNING_RATE']}_CLASS_WEIGHT_{config['CLASS_WEIGHT']}\"\n",
    "\n",
    "writer = SummaryWriter(\n",
    "    log_dir=f\"runs/{experiment_name}\",\n",
    ")"
   ]
  },
  {
   "cell_type": "code",
   "execution_count": 6,
   "metadata": {},
   "outputs": [
    {
     "data": {
      "text/plain": [
       "device(type='cuda')"
      ]
     },
     "execution_count": 6,
     "metadata": {},
     "output_type": "execute_result"
    }
   ],
   "source": [
    "# device\n",
    "device = torch.device('cuda' if torch.cuda.is_available() else 'cpu')\n",
    "device"
   ]
  },
  {
   "cell_type": "markdown",
   "metadata": {},
   "source": [
    "### prepare data"
   ]
  },
  {
   "cell_type": "code",
   "execution_count": 7,
   "metadata": {},
   "outputs": [],
   "source": [
    "df = pd.read_csv('./data/train.csv', usecols=['Title', 'BodyMarkdown', 'OpenStatus'])\n",
    "df.fillna('', inplace=True)\n",
    "\n",
    "df['Title'] = df['Title'].str.lower()\n",
    "df['BodyMarkdown'] = df['BodyMarkdown'].str.lower()"
   ]
  },
  {
   "cell_type": "code",
   "execution_count": 8,
   "metadata": {},
   "outputs": [
    {
     "data": {
      "text/html": [
       "<div>\n",
       "<style scoped>\n",
       "    .dataframe tbody tr th:only-of-type {\n",
       "        vertical-align: middle;\n",
       "    }\n",
       "\n",
       "    .dataframe tbody tr th {\n",
       "        vertical-align: top;\n",
       "    }\n",
       "\n",
       "    .dataframe thead th {\n",
       "        text-align: right;\n",
       "    }\n",
       "</style>\n",
       "<table border=\"1\" class=\"dataframe\">\n",
       "  <thead>\n",
       "    <tr style=\"text-align: right;\">\n",
       "      <th></th>\n",
       "      <th>Title</th>\n",
       "      <th>BodyMarkdown</th>\n",
       "      <th>OpenStatus</th>\n",
       "    </tr>\n",
       "  </thead>\n",
       "  <tbody>\n",
       "    <tr>\n",
       "      <th>0</th>\n",
       "      <td>decimal vs double?</td>\n",
       "      <td>i'm new to c#, and i want to use a trackbar fo...</td>\n",
       "      <td>open</td>\n",
       "    </tr>\n",
       "    <tr>\n",
       "      <th>1</th>\n",
       "      <td>percentage width child in absolutely positione...</td>\n",
       "      <td>i've got an absolutely positioned div containi...</td>\n",
       "      <td>open</td>\n",
       "    </tr>\n",
       "    <tr>\n",
       "      <th>2</th>\n",
       "      <td>tools for porting j# code to c#</td>\n",
       "      <td>are there any conversion tools for porting vis...</td>\n",
       "      <td>open</td>\n",
       "    </tr>\n",
       "    <tr>\n",
       "      <th>3</th>\n",
       "      <td>how do i calculate someone's age in c#?</td>\n",
       "      <td>given a datetime representing their birthday, ...</td>\n",
       "      <td>open</td>\n",
       "    </tr>\n",
       "    <tr>\n",
       "      <th>4</th>\n",
       "      <td>retrieve data from nsuserdefaults to tableview</td>\n",
       "      <td>i save values of two labels through nsuserdefa...</td>\n",
       "      <td>open</td>\n",
       "    </tr>\n",
       "    <tr>\n",
       "      <th>...</th>\n",
       "      <td>...</td>\n",
       "      <td>...</td>\n",
       "      <td>...</td>\n",
       "    </tr>\n",
       "    <tr>\n",
       "      <th>3370523</th>\n",
       "      <td>dividing an array by filter function</td>\n",
       "      <td>i have a javascript array that i would like to...</td>\n",
       "      <td>open</td>\n",
       "    </tr>\n",
       "    <tr>\n",
       "      <th>3370524</th>\n",
       "      <td>javascript link extractor</td>\n",
       "      <td>i am interested in extracting links from sites...</td>\n",
       "      <td>open</td>\n",
       "    </tr>\n",
       "    <tr>\n",
       "      <th>3370525</th>\n",
       "      <td>selenium remote webdriver insane memory usage</td>\n",
       "      <td>i've created a small python script to run test...</td>\n",
       "      <td>open</td>\n",
       "    </tr>\n",
       "    <tr>\n",
       "      <th>3370526</th>\n",
       "      <td>searching through an array of dictionaries</td>\n",
       "      <td>i'm making an iphone app which displays inform...</td>\n",
       "      <td>open</td>\n",
       "    </tr>\n",
       "    <tr>\n",
       "      <th>3370527</th>\n",
       "      <td>vb.net - array of integers needs to be instant...</td>\n",
       "      <td>first try\\r\\n\\r\\n    dim holdvalues() as integ...</td>\n",
       "      <td>open</td>\n",
       "    </tr>\n",
       "  </tbody>\n",
       "</table>\n",
       "<p>3370528 rows × 3 columns</p>\n",
       "</div>"
      ],
      "text/plain": [
       "                                                     Title  \\\n",
       "0                                       decimal vs double?   \n",
       "1        percentage width child in absolutely positione...   \n",
       "2                          tools for porting j# code to c#   \n",
       "3                  how do i calculate someone's age in c#?   \n",
       "4           retrieve data from nsuserdefaults to tableview   \n",
       "...                                                    ...   \n",
       "3370523               dividing an array by filter function   \n",
       "3370524                          javascript link extractor   \n",
       "3370525      selenium remote webdriver insane memory usage   \n",
       "3370526         searching through an array of dictionaries   \n",
       "3370527  vb.net - array of integers needs to be instant...   \n",
       "\n",
       "                                              BodyMarkdown OpenStatus  \n",
       "0        i'm new to c#, and i want to use a trackbar fo...       open  \n",
       "1        i've got an absolutely positioned div containi...       open  \n",
       "2        are there any conversion tools for porting vis...       open  \n",
       "3        given a datetime representing their birthday, ...       open  \n",
       "4        i save values of two labels through nsuserdefa...       open  \n",
       "...                                                    ...        ...  \n",
       "3370523  i have a javascript array that i would like to...       open  \n",
       "3370524  i am interested in extracting links from sites...       open  \n",
       "3370525  i've created a small python script to run test...       open  \n",
       "3370526  i'm making an iphone app which displays inform...       open  \n",
       "3370527  first try\\r\\n\\r\\n    dim holdvalues() as integ...       open  \n",
       "\n",
       "[3370528 rows x 3 columns]"
      ]
     },
     "execution_count": 8,
     "metadata": {},
     "output_type": "execute_result"
    }
   ],
   "source": [
    "df"
   ]
  },
  {
   "cell_type": "code",
   "execution_count": 9,
   "metadata": {},
   "outputs": [
    {
     "data": {
      "text/plain": [
       "open                   3300392\n",
       "not a real question      30789\n",
       "off topic                17530\n",
       "not constructive         15659\n",
       "too localized             6158\n",
       "Name: OpenStatus, dtype: int64"
      ]
     },
     "execution_count": 9,
     "metadata": {},
     "output_type": "execute_result"
    }
   ],
   "source": [
    "df['OpenStatus'].value_counts()"
   ]
  },
  {
   "cell_type": "code",
   "execution_count": 10,
   "metadata": {},
   "outputs": [],
   "source": [
    "# undersampling\n",
    "df = pd.concat([\n",
    "    df[df['OpenStatus'] == 'open'].sample(100000, random_state=42),\n",
    "    df[df['OpenStatus'] != 'open'],\n",
    "])"
   ]
  },
  {
   "cell_type": "code",
   "execution_count": 11,
   "metadata": {},
   "outputs": [
    {
     "data": {
      "text/plain": [
       "open                   100000\n",
       "not a real question     30789\n",
       "off topic               17530\n",
       "not constructive        15659\n",
       "too localized            6158\n",
       "Name: OpenStatus, dtype: int64"
      ]
     },
     "execution_count": 11,
     "metadata": {},
     "output_type": "execute_result"
    }
   ],
   "source": [
    "df['OpenStatus'].value_counts()"
   ]
  },
  {
   "cell_type": "code",
   "execution_count": 12,
   "metadata": {},
   "outputs": [],
   "source": [
    "df_train, df_test = train_test_split(\n",
    "    df,\n",
    "    test_size=0.25,\n",
    "    random_state=42,\n",
    "    shuffle=True,\n",
    "    stratify=df['OpenStatus'],\n",
    ")"
   ]
  },
  {
   "cell_type": "code",
   "execution_count": 13,
   "metadata": {},
   "outputs": [
    {
     "name": "stdout",
     "output_type": "stream",
     "text": [
      "Train size: 127602\n",
      "Test size: 42534\n"
     ]
    }
   ],
   "source": [
    "print(f'Train size: {df_train.shape[0]}')\n",
    "print(f'Test size: {df_test.shape[0]}')"
   ]
  },
  {
   "cell_type": "code",
   "execution_count": 14,
   "metadata": {},
   "outputs": [],
   "source": [
    "le = LabelEncoder()\n",
    "\n",
    "df_train['OpenStatus'] = le.fit_transform(df_train['OpenStatus'])\n",
    "df_test['OpenStatus'] = le.transform(df_test['OpenStatus'])"
   ]
  },
  {
   "cell_type": "code",
   "execution_count": 15,
   "metadata": {},
   "outputs": [],
   "source": [
    "train_dataset = Dataset(df=df_train)\n",
    "test_dataset = Dataset(df=df_test)"
   ]
  },
  {
   "cell_type": "markdown",
   "metadata": {},
   "source": [
    "### load bert model"
   ]
  },
  {
   "cell_type": "code",
   "execution_count": 16,
   "metadata": {},
   "outputs": [],
   "source": [
    "tokenizer = AutoTokenizer.from_pretrained(config['MODEL_NAME'])"
   ]
  },
  {
   "cell_type": "code",
   "execution_count": 17,
   "metadata": {},
   "outputs": [],
   "source": [
    "tokenizer_kwargs = {\n",
    "    'return_tensors': 'pt',\n",
    "    'padding':        True,\n",
    "    'truncation':     True,\n",
    "    'max_length':     512,\n",
    "}\n",
    "\n",
    "collate_fn = Collator(tokenizer, tokenizer_kwargs)"
   ]
  },
  {
   "cell_type": "code",
   "execution_count": 18,
   "metadata": {},
   "outputs": [],
   "source": [
    "train_dataloader = torch.utils.data.DataLoader(\n",
    "    dataset=train_dataset,\n",
    "    batch_size=config['BATCH_SIZE'],\n",
    "    shuffle=True,\n",
    "    collate_fn=collate_fn,\n",
    ")\n",
    "test_dataloader = torch.utils.data.DataLoader(\n",
    "    dataset=test_dataset,\n",
    "    batch_size=config['BATCH_SIZE'],\n",
    "    shuffle=False,\n",
    "    collate_fn=collate_fn,\n",
    ")"
   ]
  },
  {
   "cell_type": "markdown",
   "metadata": {},
   "source": [
    "### train model"
   ]
  },
  {
   "cell_type": "code",
   "execution_count": 19,
   "metadata": {},
   "outputs": [
    {
     "name": "stderr",
     "output_type": "stream",
     "text": [
      "Some weights of the model checkpoint at distilroberta-base were not used when initializing RobertaForSequenceClassification: ['roberta.pooler.dense.bias', 'lm_head.layer_norm.bias', 'roberta.pooler.dense.weight', 'lm_head.dense.bias', 'lm_head.decoder.weight', 'lm_head.layer_norm.weight', 'lm_head.bias', 'lm_head.dense.weight']\n",
      "- This IS expected if you are initializing RobertaForSequenceClassification from the checkpoint of a model trained on another task or with another architecture (e.g. initializing a BertForSequenceClassification model from a BertForPreTraining model).\n",
      "- This IS NOT expected if you are initializing RobertaForSequenceClassification from the checkpoint of a model that you expect to be exactly identical (initializing a BertForSequenceClassification model from a BertForSequenceClassification model).\n",
      "Some weights of RobertaForSequenceClassification were not initialized from the model checkpoint at distilroberta-base and are newly initialized: ['classifier.out_proj.weight', 'classifier.dense.weight', 'classifier.out_proj.bias', 'classifier.dense.bias']\n",
      "You should probably TRAIN this model on a down-stream task to be able to use it for predictions and inference.\n"
     ]
    }
   ],
   "source": [
    "model = AutoModelForSequenceClassification.from_pretrained(\n",
    "    config['MODEL_NAME'],\n",
    "    num_labels=df_train['OpenStatus'].nunique(),\n",
    ").to(device)"
   ]
  },
  {
   "cell_type": "code",
   "execution_count": 20,
   "metadata": {},
   "outputs": [],
   "source": [
    "optimizer = torch.optim.Adam(model.parameters(), lr=config['LEARNING_RATE'])\n",
    "criterion = torch.nn.CrossEntropyLoss()"
   ]
  },
  {
   "cell_type": "code",
   "execution_count": 21,
   "metadata": {},
   "outputs": [
    {
     "name": "stdout",
     "output_type": "stream",
     "text": [
      "Epoch [1 / 10]\n",
      "\n"
     ]
    },
    {
     "name": "stderr",
     "output_type": "stream",
     "text": [
      "loop over train batches: 100%|██████████| 1994/1994 [41:43<00:00,  1.26s/it]\n"
     ]
    },
    {
     "name": "stdout",
     "output_type": "stream",
     "text": [
      "Train loss: 0.8184811789299564\n",
      "\n",
      "Train metrics:\n",
      "{'accuracy': 0.7033823921255152, 'precision_micro': 0.7033823921255152, 'precision_macro': 0.5951942809818445, 'precision_weighted': 0.6796833224894905, 'recall_micro': 0.7033823921255152, 'recall_macro': 0.46699959597897245, 'recall_weighted': 0.7033823921255152, 'f1_micro': 0.7033823921255152, 'f1_macro': 0.47999248439166237, 'f1_weighted': 0.6743940307439246}\n",
      "\n"
     ]
    },
    {
     "name": "stderr",
     "output_type": "stream",
     "text": [
      "loop over test batches: 100%|██████████| 665/665 [03:43<00:00,  2.98it/s]\n"
     ]
    },
    {
     "name": "stdout",
     "output_type": "stream",
     "text": [
      "Test loss:  0.7559711185613073\n",
      "\n",
      "Test metrics:\n",
      "{'accuracy': 0.718648610523346, 'precision_micro': 0.718648610523346, 'precision_macro': 0.5980827994340795, 'precision_weighted': 0.6964913018250483, 'recall_micro': 0.718648610523346, 'recall_macro': 0.5017709451084473, 'recall_weighted': 0.718648610523346, 'f1_micro': 0.7186486105233462, 'f1_macro': 0.5114446445242382, 'f1_weighted': 0.6951597918162564}\n",
      "\n",
      "Epoch [2 / 10]\n",
      "\n"
     ]
    },
    {
     "name": "stderr",
     "output_type": "stream",
     "text": [
      "loop over train batches: 100%|██████████| 1994/1994 [41:45<00:00,  1.26s/it]\n"
     ]
    },
    {
     "name": "stdout",
     "output_type": "stream",
     "text": [
      "Train loss: 0.7324333888746671\n",
      "\n",
      "Train metrics:\n",
      "{'accuracy': 0.7340167082020658, 'precision_micro': 0.7340167082020658, 'precision_macro': 0.6254522927544571, 'precision_weighted': 0.7142542537488618, 'recall_micro': 0.7340167082020658, 'recall_macro': 0.5198465191631366, 'recall_weighted': 0.7340167082020658, 'f1_micro': 0.7340167082020658, 'f1_macro': 0.5314538968973465, 'f1_weighted': 0.7120671007627537}\n",
      "\n"
     ]
    },
    {
     "name": "stderr",
     "output_type": "stream",
     "text": [
      "loop over test batches: 100%|██████████| 665/665 [03:43<00:00,  2.97it/s]\n"
     ]
    },
    {
     "name": "stdout",
     "output_type": "stream",
     "text": [
      "Test loss:  0.7346269326102465\n",
      "\n",
      "Test metrics:\n",
      "{'accuracy': 0.7251375370292001, 'precision_micro': 0.7251375370292001, 'precision_macro': 0.6117721970807868, 'precision_weighted': 0.7101906391552263, 'recall_micro': 0.7251375370292001, 'recall_macro': 0.5245240615980962, 'recall_weighted': 0.7251375370292001, 'f1_micro': 0.7251375370292, 'f1_macro': 0.5272707577639622, 'f1_weighted': 0.7087657428246096}\n",
      "\n",
      "Epoch [3 / 10]\n",
      "\n"
     ]
    },
    {
     "name": "stderr",
     "output_type": "stream",
     "text": [
      "loop over train batches: 100%|██████████| 1994/1994 [41:43<00:00,  1.26s/it]\n"
     ]
    },
    {
     "name": "stdout",
     "output_type": "stream",
     "text": [
      "Train loss: 0.6959317921396483\n",
      "\n",
      "Train metrics:\n",
      "{'accuracy': 0.7505133148383254, 'precision_micro': 0.7505133148383254, 'precision_macro': 0.646984387273849, 'precision_weighted': 0.7330559044104187, 'recall_micro': 0.7505133148383254, 'recall_macro': 0.54611511538195, 'recall_weighted': 0.7505133148383254, 'f1_micro': 0.7505133148383254, 'f1_macro': 0.55959155304883, 'f1_weighted': 0.73123802181237}\n",
      "\n"
     ]
    },
    {
     "name": "stderr",
     "output_type": "stream",
     "text": [
      "loop over test batches: 100%|██████████| 665/665 [03:43<00:00,  2.97it/s]\n"
     ]
    },
    {
     "name": "stdout",
     "output_type": "stream",
     "text": [
      "Test loss:  0.7380969932652954\n",
      "\n",
      "Test metrics:\n",
      "{'accuracy': 0.7249259415996614, 'precision_micro': 0.7249259415996614, 'precision_macro': 0.5911216142390494, 'precision_weighted': 0.7057743198524082, 'recall_micro': 0.7249259415996614, 'recall_macro': 0.5258626479303828, 'recall_weighted': 0.7249259415996614, 'f1_micro': 0.7249259415996614, 'f1_macro': 0.5297520953783601, 'f1_weighted': 0.7072749137618286}\n",
      "\n",
      "Epoch [4 / 10]\n",
      "\n"
     ]
    },
    {
     "name": "stderr",
     "output_type": "stream",
     "text": [
      "loop over train batches: 100%|██████████| 1994/1994 [41:44<00:00,  1.26s/it]\n"
     ]
    },
    {
     "name": "stdout",
     "output_type": "stream",
     "text": [
      "Train loss: 0.6614364838917014\n",
      "\n",
      "Train metrics:\n",
      "{'accuracy': 0.7675114810112694, 'precision_micro': 0.7675114810112694, 'precision_macro': 0.6759125043000467, 'precision_weighted': 0.7529096392934906, 'recall_micro': 0.7675114810112694, 'recall_macro': 0.5736884256014733, 'recall_weighted': 0.7675114810112694, 'f1_micro': 0.7675114810112694, 'f1_macro': 0.5895947270092627, 'f1_weighted': 0.7504593569774639}\n",
      "\n"
     ]
    },
    {
     "name": "stderr",
     "output_type": "stream",
     "text": [
      "loop over test batches: 100%|██████████| 665/665 [03:43<00:00,  2.98it/s]\n"
     ]
    },
    {
     "name": "stdout",
     "output_type": "stream",
     "text": [
      "Test loss:  0.7445018477009652\n",
      "\n",
      "Test metrics:\n",
      "{'accuracy': 0.7245732825504303, 'precision_micro': 0.7245732825504303, 'precision_macro': 0.5985884560996526, 'precision_weighted': 0.7045441702741724, 'recall_micro': 0.7245732825504303, 'recall_macro': 0.514608394000209, 'recall_weighted': 0.7245732825504303, 'f1_micro': 0.7245732825504303, 'f1_macro': 0.5325697601989459, 'f1_weighted': 0.7081697962973493}\n",
      "\n",
      "Epoch [5 / 10]\n",
      "\n"
     ]
    },
    {
     "name": "stderr",
     "output_type": "stream",
     "text": [
      "loop over train batches: 100%|██████████| 1994/1994 [41:43<00:00,  1.26s/it]\n"
     ]
    },
    {
     "name": "stdout",
     "output_type": "stream",
     "text": [
      "Train loss: 0.6239474756398435\n",
      "\n",
      "Train metrics:\n",
      "{'accuracy': 0.7862807792981301, 'precision_micro': 0.7862807792981301, 'precision_macro': 0.7011537767777876, 'precision_weighted': 0.7734473220450934, 'recall_micro': 0.7862807792981301, 'recall_macro': 0.6009468106758643, 'recall_weighted': 0.7862807792981301, 'f1_micro': 0.7862807792981301, 'f1_macro': 0.6196929916211101, 'f1_weighted': 0.7710875582420484}\n",
      "\n"
     ]
    },
    {
     "name": "stderr",
     "output_type": "stream",
     "text": [
      "loop over test batches: 100%|██████████| 665/665 [03:43<00:00,  2.97it/s]\n"
     ]
    },
    {
     "name": "stdout",
     "output_type": "stream",
     "text": [
      "Test loss:  0.7620926093338127\n",
      "\n",
      "Test metrics:\n",
      "{'accuracy': 0.7229510509239667, 'precision_micro': 0.7229510509239667, 'precision_macro': 0.5859331533126578, 'precision_weighted': 0.705043492789509, 'recall_micro': 0.7229510509239667, 'recall_macro': 0.5328830701601186, 'recall_weighted': 0.7229510509239667, 'f1_micro': 0.7229510509239667, 'f1_macro': 0.5436463253571163, 'f1_weighted': 0.7093577217360413}\n",
      "\n",
      "Epoch [6 / 10]\n",
      "\n"
     ]
    },
    {
     "name": "stderr",
     "output_type": "stream",
     "text": [
      "loop over train batches: 100%|██████████| 1994/1994 [41:44<00:00,  1.26s/it]\n"
     ]
    },
    {
     "name": "stdout",
     "output_type": "stream",
     "text": [
      "Train loss: 0.5864982044505499\n",
      "\n",
      "Train metrics:\n",
      "{'accuracy': 0.8082318458958323, 'precision_micro': 0.8082318458958323, 'precision_macro': 0.7311708730345157, 'precision_weighted': 0.7976707345369578, 'recall_micro': 0.8082318458958323, 'recall_macro': 0.6355779988656571, 'recall_weighted': 0.8082318458958323, 'f1_micro': 0.8082318458958323, 'f1_macro': 0.6554900114981475, 'f1_weighted': 0.7956150723717246}\n",
      "\n"
     ]
    },
    {
     "name": "stderr",
     "output_type": "stream",
     "text": [
      "loop over test batches: 100%|██████████| 665/665 [03:43<00:00,  2.98it/s]\n"
     ]
    },
    {
     "name": "stdout",
     "output_type": "stream",
     "text": [
      "Test loss:  0.7832789295149926\n",
      "\n",
      "Test metrics:\n",
      "{'accuracy': 0.721563925330324, 'precision_micro': 0.721563925330324, 'precision_macro': 0.5884022750855279, 'precision_weighted': 0.7009154463745565, 'recall_micro': 0.721563925330324, 'recall_macro': 0.5199870804823169, 'recall_weighted': 0.721563925330324, 'f1_micro': 0.721563925330324, 'f1_macro': 0.5334190921994525, 'f1_weighted': 0.7039324370091681}\n",
      "\n",
      "Epoch [7 / 10]\n",
      "\n"
     ]
    },
    {
     "name": "stderr",
     "output_type": "stream",
     "text": [
      "loop over train batches: 100%|██████████| 1994/1994 [41:44<00:00,  1.26s/it]\n"
     ]
    },
    {
     "name": "stdout",
     "output_type": "stream",
     "text": [
      "Train loss: 0.5460589570380979\n",
      "\n",
      "Train metrics:\n",
      "{'accuracy': 0.830198586229056, 'precision_micro': 0.830198586229056, 'precision_macro': 0.7617375203436245, 'precision_weighted': 0.8214340436371951, 'recall_micro': 0.830198586229056, 'recall_macro': 0.6681581413878158, 'recall_weighted': 0.830198586229056, 'f1_micro': 0.830198586229056, 'f1_macro': 0.6898340667333732, 'f1_weighted': 0.8193331526577744}\n",
      "\n"
     ]
    },
    {
     "name": "stderr",
     "output_type": "stream",
     "text": [
      "loop over test batches: 100%|██████████| 665/665 [03:43<00:00,  2.98it/s]\n"
     ]
    },
    {
     "name": "stdout",
     "output_type": "stream",
     "text": [
      "Test loss:  0.8160091431069195\n",
      "\n",
      "Test metrics:\n",
      "{'accuracy': 0.7171674425165749, 'precision_micro': 0.7171674425165749, 'precision_macro': 0.5768822489021793, 'precision_weighted': 0.696564918162977, 'recall_micro': 0.7171674425165749, 'recall_macro': 0.5180061506271783, 'recall_weighted': 0.7171674425165749, 'f1_micro': 0.7171674425165749, 'f1_macro': 0.5263460313080269, 'f1_weighted': 0.6990692919065121}\n",
      "\n",
      "Epoch [8 / 10]\n",
      "\n"
     ]
    },
    {
     "name": "stderr",
     "output_type": "stream",
     "text": [
      "loop over train batches: 100%|██████████| 1994/1994 [41:43<00:00,  1.26s/it]\n"
     ]
    },
    {
     "name": "stdout",
     "output_type": "stream",
     "text": [
      "Train loss: 0.5046283833032386\n",
      "\n",
      "Train metrics:\n",
      "{'accuracy': 0.8533251829908622, 'precision_micro': 0.8533251829908622, 'precision_macro': 0.7957658325034263, 'precision_weighted': 0.8465321593220076, 'recall_micro': 0.8533251829908622, 'recall_macro': 0.7042623009584099, 'recall_weighted': 0.8533251829908622, 'f1_micro': 0.8533251829908622, 'f1_macro': 0.7281124134599621, 'f1_weighted': 0.8443472172803523}\n",
      "\n"
     ]
    },
    {
     "name": "stderr",
     "output_type": "stream",
     "text": [
      "loop over test batches: 100%|██████████| 665/665 [03:44<00:00,  2.97it/s]\n"
     ]
    },
    {
     "name": "stdout",
     "output_type": "stream",
     "text": [
      "Test loss:  0.8659704671766525\n",
      "\n",
      "Test metrics:\n",
      "{'accuracy': 0.7105844735975925, 'precision_micro': 0.7105844735975925, 'precision_macro': 0.5722154268097495, 'precision_weighted': 0.691006668193529, 'recall_micro': 0.7105844735975925, 'recall_macro': 0.5170324888365937, 'recall_weighted': 0.7105844735975925, 'f1_micro': 0.7105844735975926, 'f1_macro': 0.5279646364194146, 'f1_weighted': 0.6942095523644903}\n",
      "\n",
      "Epoch [9 / 10]\n",
      "\n"
     ]
    },
    {
     "name": "stderr",
     "output_type": "stream",
     "text": [
      "loop over train batches: 100%|██████████| 1994/1994 [41:44<00:00,  1.26s/it]\n"
     ]
    },
    {
     "name": "stdout",
     "output_type": "stream",
     "text": [
      "Train loss: 0.4614418593712652\n",
      "\n",
      "Train metrics:\n",
      "{'accuracy': 0.8763890848105829, 'precision_micro': 0.8763890848105829, 'precision_macro': 0.8313372366016184, 'precision_weighted': 0.8714233442238934, 'recall_micro': 0.8763890848105829, 'recall_macro': 0.7413619518071218, 'recall_weighted': 0.8763890848105829, 'f1_micro': 0.8763890848105829, 'f1_macro': 0.7675370494894075, 'f1_weighted': 0.8693622275301071}\n",
      "\n"
     ]
    },
    {
     "name": "stderr",
     "output_type": "stream",
     "text": [
      "loop over test batches: 100%|██████████| 665/665 [03:43<00:00,  2.97it/s]\n"
     ]
    },
    {
     "name": "stdout",
     "output_type": "stream",
     "text": [
      "Test loss:  0.928220957696886\n",
      "\n",
      "Test metrics:\n",
      "{'accuracy': 0.7095970282597451, 'precision_micro': 0.7095970282597451, 'precision_macro': 0.564789875037949, 'precision_weighted': 0.6903220518817095, 'recall_micro': 0.7095970282597451, 'recall_macro': 0.5181428159729595, 'recall_weighted': 0.7095970282597451, 'f1_micro': 0.7095970282597451, 'f1_macro': 0.5295437103413234, 'f1_weighted': 0.6935374479805282}\n",
      "\n",
      "Epoch [10 / 10]\n",
      "\n"
     ]
    },
    {
     "name": "stderr",
     "output_type": "stream",
     "text": [
      "loop over train batches: 100%|██████████| 1994/1994 [41:45<00:00,  1.26s/it]\n"
     ]
    },
    {
     "name": "stdout",
     "output_type": "stream",
     "text": [
      "Train loss: 0.4232616942215229\n",
      "\n",
      "Train metrics:\n",
      "{'accuracy': 0.8972116424507453, 'precision_micro': 0.8972116424507453, 'precision_macro': 0.8580666702782921, 'precision_weighted': 0.8933400742687718, 'recall_micro': 0.8972116424507453, 'recall_macro': 0.7760858490684399, 'recall_weighted': 0.8972116424507453, 'f1_micro': 0.8972116424507453, 'f1_macro': 0.8022100051513744, 'f1_weighted': 0.8918298440963974}\n",
      "\n"
     ]
    },
    {
     "name": "stderr",
     "output_type": "stream",
     "text": [
      "loop over test batches: 100%|██████████| 665/665 [03:43<00:00,  2.97it/s]"
     ]
    },
    {
     "name": "stdout",
     "output_type": "stream",
     "text": [
      "Test loss:  0.9737076680911215\n",
      "\n",
      "Test metrics:\n",
      "{'accuracy': 0.7017209761602483, 'precision_micro': 0.7017209761602483, 'precision_macro': 0.5519381955143166, 'precision_weighted': 0.6872232160875683, 'recall_micro': 0.7017209761602483, 'recall_macro': 0.5255390589761373, 'recall_weighted': 0.7017209761602483, 'f1_micro': 0.7017209761602483, 'f1_macro': 0.5319719340876865, 'f1_weighted': 0.6897758100082133}\n",
      "\n"
     ]
    },
    {
     "name": "stderr",
     "output_type": "stream",
     "text": [
      "\n"
     ]
    }
   ],
   "source": [
    "train(\n",
    "    n_epochs=config['N_EPOCHS'],\n",
    "    model=model,\n",
    "    train_dataloader=train_dataloader,\n",
    "    test_dataloader=test_dataloader,\n",
    "    optimizer=optimizer,\n",
    "    criterion=criterion,\n",
    "    writer=writer,\n",
    "    device=device,\n",
    ")"
   ]
  },
  {
   "cell_type": "code",
   "execution_count": 22,
   "metadata": {},
   "outputs": [],
   "source": [
    "model.save_pretrained(experiment_name)"
   ]
  },
  {
   "cell_type": "markdown",
   "metadata": {},
   "source": [
    "### evaluate model"
   ]
  },
  {
   "cell_type": "code",
   "execution_count": 23,
   "metadata": {},
   "outputs": [],
   "source": [
    "model = AutoModelForSequenceClassification.from_pretrained(experiment_name)\n",
    "\n",
    "model.to(device)\n",
    "model.eval();"
   ]
  },
  {
   "cell_type": "code",
   "execution_count": 24,
   "metadata": {},
   "outputs": [
    {
     "name": "stderr",
     "output_type": "stream",
     "text": [
      "inference: 100%|██████████| 1994/1994 [10:48<00:00,  3.08it/s]\n"
     ]
    }
   ],
   "source": [
    "train_metrics = compute_metrics_on_df(\n",
    "    model=model,\n",
    "    df=df_train,\n",
    "    tokenizer=tokenizer,\n",
    "    tokenizer_kwargs=tokenizer_kwargs,\n",
    "    batch_size=config['BATCH_SIZE'],\n",
    "    device=device,\n",
    ")"
   ]
  },
  {
   "cell_type": "code",
   "execution_count": 25,
   "metadata": {},
   "outputs": [
    {
     "data": {
      "text/plain": [
       "{'accuracy': 0.911788216485635,\n",
       " 'precision_micro': 0.911788216485635,\n",
       " 'precision_macro': 0.8650380102826796,\n",
       " 'precision_weighted': 0.9093525124280475,\n",
       " 'recall_micro': 0.911788216485635,\n",
       " 'recall_macro': 0.8159305242700556,\n",
       " 'recall_weighted': 0.911788216485635,\n",
       " 'f1_micro': 0.9117882164856351,\n",
       " 'f1_macro': 0.8344911825400277,\n",
       " 'f1_weighted': 0.9085508986516707}"
      ]
     },
     "execution_count": 25,
     "metadata": {},
     "output_type": "execute_result"
    }
   ],
   "source": [
    "train_metrics"
   ]
  },
  {
   "cell_type": "code",
   "execution_count": 26,
   "metadata": {},
   "outputs": [
    {
     "name": "stderr",
     "output_type": "stream",
     "text": [
      "inference: 100%|██████████| 665/665 [03:36<00:00,  3.08it/s]\n"
     ]
    }
   ],
   "source": [
    "test_metrics = compute_metrics_on_df(\n",
    "    model=model,\n",
    "    df=df_test,\n",
    "    tokenizer=tokenizer,\n",
    "    tokenizer_kwargs=tokenizer_kwargs,\n",
    "    batch_size=config['BATCH_SIZE'],\n",
    "    device=device,\n",
    ")"
   ]
  },
  {
   "cell_type": "code",
   "execution_count": 27,
   "metadata": {},
   "outputs": [
    {
     "data": {
      "text/plain": [
       "{'accuracy': 0.7017209761602483,\n",
       " 'precision_micro': 0.7017209761602483,\n",
       " 'precision_macro': 0.5519381955143166,\n",
       " 'precision_weighted': 0.6872232160875683,\n",
       " 'recall_micro': 0.7017209761602483,\n",
       " 'recall_macro': 0.5255390589761373,\n",
       " 'recall_weighted': 0.7017209761602483,\n",
       " 'f1_micro': 0.7017209761602483,\n",
       " 'f1_macro': 0.5319719340876865,\n",
       " 'f1_weighted': 0.6897758100082133}"
      ]
     },
     "execution_count": 27,
     "metadata": {},
     "output_type": "execute_result"
    }
   ],
   "source": [
    "test_metrics"
   ]
  },
  {
   "cell_type": "code",
   "execution_count": null,
   "metadata": {},
   "outputs": [],
   "source": []
  }
 ],
 "metadata": {
  "interpreter": {
   "hash": "1457a1728d05db363c00391e3074737c9ebdc2935a146b6baa1e446523e7e6bf"
  },
  "kernelspec": {
   "display_name": "Python 3 (ipykernel)",
   "language": "python",
   "name": "python3"
  },
  "language_info": {
   "codemirror_mode": {
    "name": "ipython",
    "version": 3
   },
   "file_extension": ".py",
   "mimetype": "text/x-python",
   "name": "python",
   "nbconvert_exporter": "python",
   "pygments_lexer": "ipython3",
   "version": "3.7.12"
  }
 },
 "nbformat": 4,
 "nbformat_minor": 2
}

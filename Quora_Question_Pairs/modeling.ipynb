{
 "cells": [
  {
   "cell_type": "code",
   "execution_count": 1,
   "metadata": {},
   "outputs": [],
   "source": [
    "%load_ext autoreload\n",
    "%autoreload 2"
   ]
  },
  {
   "cell_type": "code",
   "execution_count": 2,
   "metadata": {},
   "outputs": [
    {
     "name": "stderr",
     "output_type": "stream",
     "text": [
      "2022-05-27 18:39:12.063990: I tensorflow/stream_executor/platform/default/dso_loader.cc:48] Successfully opened dynamic library libcudart.so.10.1\n"
     ]
    }
   ],
   "source": [
    "import pandas as pd\n",
    "from sklearn.model_selection import train_test_split\n",
    "import torch\n",
    "from transformers import AutoTokenizer, AutoModel\n",
    "from torch.utils.tensorboard import SummaryWriter\n",
    "\n",
    "from model import SiameseManhattanBERT, MeanPooler\n",
    "from dataset import Dataset, Collator\n",
    "from utils import set_global_seed\n",
    "from train import train\n",
    "from metrics import compute_metrics_on_df"
   ]
  },
  {
   "cell_type": "code",
   "execution_count": 3,
   "metadata": {},
   "outputs": [],
   "source": [
    "set_global_seed(42)"
   ]
  },
  {
   "cell_type": "code",
   "execution_count": 4,
   "metadata": {},
   "outputs": [],
   "source": [
    "df = pd.read_csv('./data/train.csv', index_col='id')\n",
    "df.dropna(inplace=True)\n",
    "\n",
    "df['question1'] = df['question1'].str.lower()\n",
    "df['question2'] = df['question2'].str.lower()"
   ]
  },
  {
   "cell_type": "code",
   "execution_count": 5,
   "metadata": {},
   "outputs": [],
   "source": [
    "df = df.iloc[:5000]"
   ]
  },
  {
   "cell_type": "code",
   "execution_count": 6,
   "metadata": {},
   "outputs": [
    {
     "data": {
      "text/html": [
       "<div>\n",
       "<style scoped>\n",
       "    .dataframe tbody tr th:only-of-type {\n",
       "        vertical-align: middle;\n",
       "    }\n",
       "\n",
       "    .dataframe tbody tr th {\n",
       "        vertical-align: top;\n",
       "    }\n",
       "\n",
       "    .dataframe thead th {\n",
       "        text-align: right;\n",
       "    }\n",
       "</style>\n",
       "<table border=\"1\" class=\"dataframe\">\n",
       "  <thead>\n",
       "    <tr style=\"text-align: right;\">\n",
       "      <th></th>\n",
       "      <th>qid1</th>\n",
       "      <th>qid2</th>\n",
       "      <th>question1</th>\n",
       "      <th>question2</th>\n",
       "      <th>is_duplicate</th>\n",
       "    </tr>\n",
       "    <tr>\n",
       "      <th>id</th>\n",
       "      <th></th>\n",
       "      <th></th>\n",
       "      <th></th>\n",
       "      <th></th>\n",
       "      <th></th>\n",
       "    </tr>\n",
       "  </thead>\n",
       "  <tbody>\n",
       "    <tr>\n",
       "      <th>0</th>\n",
       "      <td>1</td>\n",
       "      <td>2</td>\n",
       "      <td>what is the step by step guide to invest in sh...</td>\n",
       "      <td>what is the step by step guide to invest in sh...</td>\n",
       "      <td>0</td>\n",
       "    </tr>\n",
       "    <tr>\n",
       "      <th>1</th>\n",
       "      <td>3</td>\n",
       "      <td>4</td>\n",
       "      <td>what is the story of kohinoor (koh-i-noor) dia...</td>\n",
       "      <td>what would happen if the indian government sto...</td>\n",
       "      <td>0</td>\n",
       "    </tr>\n",
       "    <tr>\n",
       "      <th>2</th>\n",
       "      <td>5</td>\n",
       "      <td>6</td>\n",
       "      <td>how can i increase the speed of my internet co...</td>\n",
       "      <td>how can internet speed be increased by hacking...</td>\n",
       "      <td>0</td>\n",
       "    </tr>\n",
       "    <tr>\n",
       "      <th>3</th>\n",
       "      <td>7</td>\n",
       "      <td>8</td>\n",
       "      <td>why am i mentally very lonely? how can i solve...</td>\n",
       "      <td>find the remainder when [math]23^{24}[/math] i...</td>\n",
       "      <td>0</td>\n",
       "    </tr>\n",
       "    <tr>\n",
       "      <th>4</th>\n",
       "      <td>9</td>\n",
       "      <td>10</td>\n",
       "      <td>which one dissolve in water quikly sugar, salt...</td>\n",
       "      <td>which fish would survive in salt water?</td>\n",
       "      <td>0</td>\n",
       "    </tr>\n",
       "    <tr>\n",
       "      <th>...</th>\n",
       "      <td>...</td>\n",
       "      <td>...</td>\n",
       "      <td>...</td>\n",
       "      <td>...</td>\n",
       "      <td>...</td>\n",
       "    </tr>\n",
       "    <tr>\n",
       "      <th>4995</th>\n",
       "      <td>9850</td>\n",
       "      <td>9851</td>\n",
       "      <td>what has a better roi,  marketing on radio sta...</td>\n",
       "      <td>how does a pirate radio station work?</td>\n",
       "      <td>0</td>\n",
       "    </tr>\n",
       "    <tr>\n",
       "      <th>4996</th>\n",
       "      <td>9852</td>\n",
       "      <td>9853</td>\n",
       "      <td>which mobile is good for 50k?</td>\n",
       "      <td>which mobile is good within 20k?</td>\n",
       "      <td>0</td>\n",
       "    </tr>\n",
       "    <tr>\n",
       "      <th>4997</th>\n",
       "      <td>9854</td>\n",
       "      <td>9855</td>\n",
       "      <td>is the character jane in the movie predestinat...</td>\n",
       "      <td>what actually happened in predestination?</td>\n",
       "      <td>0</td>\n",
       "    </tr>\n",
       "    <tr>\n",
       "      <th>4998</th>\n",
       "      <td>9856</td>\n",
       "      <td>9857</td>\n",
       "      <td>how true are near death experiences?</td>\n",
       "      <td>are near death experiences (ndes) real?</td>\n",
       "      <td>1</td>\n",
       "    </tr>\n",
       "    <tr>\n",
       "      <th>4999</th>\n",
       "      <td>9858</td>\n",
       "      <td>9859</td>\n",
       "      <td>how much does u.s. $500,000 weigh in cash?</td>\n",
       "      <td>can you be rich with $500,000?</td>\n",
       "      <td>0</td>\n",
       "    </tr>\n",
       "  </tbody>\n",
       "</table>\n",
       "<p>5000 rows × 5 columns</p>\n",
       "</div>"
      ],
      "text/plain": [
       "      qid1  qid2                                          question1  \\\n",
       "id                                                                    \n",
       "0        1     2  what is the step by step guide to invest in sh...   \n",
       "1        3     4  what is the story of kohinoor (koh-i-noor) dia...   \n",
       "2        5     6  how can i increase the speed of my internet co...   \n",
       "3        7     8  why am i mentally very lonely? how can i solve...   \n",
       "4        9    10  which one dissolve in water quikly sugar, salt...   \n",
       "...    ...   ...                                                ...   \n",
       "4995  9850  9851  what has a better roi,  marketing on radio sta...   \n",
       "4996  9852  9853                      which mobile is good for 50k?   \n",
       "4997  9854  9855  is the character jane in the movie predestinat...   \n",
       "4998  9856  9857               how true are near death experiences?   \n",
       "4999  9858  9859         how much does u.s. $500,000 weigh in cash?   \n",
       "\n",
       "                                              question2  is_duplicate  \n",
       "id                                                                     \n",
       "0     what is the step by step guide to invest in sh...             0  \n",
       "1     what would happen if the indian government sto...             0  \n",
       "2     how can internet speed be increased by hacking...             0  \n",
       "3     find the remainder when [math]23^{24}[/math] i...             0  \n",
       "4               which fish would survive in salt water?             0  \n",
       "...                                                 ...           ...  \n",
       "4995              how does a pirate radio station work?             0  \n",
       "4996                   which mobile is good within 20k?             0  \n",
       "4997          what actually happened in predestination?             0  \n",
       "4998            are near death experiences (ndes) real?             1  \n",
       "4999                     can you be rich with $500,000?             0  \n",
       "\n",
       "[5000 rows x 5 columns]"
      ]
     },
     "execution_count": 6,
     "metadata": {},
     "output_type": "execute_result"
    }
   ],
   "source": [
    "df"
   ]
  },
  {
   "cell_type": "code",
   "execution_count": 7,
   "metadata": {},
   "outputs": [
    {
     "data": {
      "text/plain": [
       "0    3089\n",
       "1    1911\n",
       "Name: is_duplicate, dtype: int64"
      ]
     },
     "execution_count": 7,
     "metadata": {},
     "output_type": "execute_result"
    }
   ],
   "source": [
    "df['is_duplicate'].value_counts()"
   ]
  },
  {
   "cell_type": "code",
   "execution_count": 8,
   "metadata": {},
   "outputs": [],
   "source": [
    "df_train, df_test = train_test_split(\n",
    "    df,\n",
    "    test_size=0.25,\n",
    "    random_state=42,\n",
    "    shuffle=True,\n",
    "    stratify=df['is_duplicate'],\n",
    ")"
   ]
  },
  {
   "cell_type": "code",
   "execution_count": 9,
   "metadata": {},
   "outputs": [
    {
     "name": "stdout",
     "output_type": "stream",
     "text": [
      "Train size: 3750\n",
      "Test size:  1250\n"
     ]
    }
   ],
   "source": [
    "print(f'Train size: {df_train.shape[0]}')\n",
    "print(f'Test size:  {df_test.shape[0]}')"
   ]
  },
  {
   "cell_type": "code",
   "execution_count": 10,
   "metadata": {},
   "outputs": [],
   "source": [
    "train_dataset = Dataset(df=df_train)\n",
    "test_dataset = Dataset(df=df_test)"
   ]
  },
  {
   "cell_type": "code",
   "execution_count": 11,
   "metadata": {},
   "outputs": [
    {
     "data": {
      "text/plain": [
       "device(type='cuda')"
      ]
     },
     "execution_count": 11,
     "metadata": {},
     "output_type": "execute_result"
    }
   ],
   "source": [
    "device = torch.device('cuda' if torch.cuda.is_available() else 'cpu')\n",
    "device"
   ]
  },
  {
   "cell_type": "code",
   "execution_count": 12,
   "metadata": {},
   "outputs": [
    {
     "name": "stderr",
     "output_type": "stream",
     "text": [
      "Some weights of the model checkpoint at distilroberta-base were not used when initializing RobertaModel: ['lm_head.dense.bias', 'lm_head.dense.weight', 'lm_head.layer_norm.bias', 'lm_head.bias', 'lm_head.layer_norm.weight', 'lm_head.decoder.weight']\n",
      "- This IS expected if you are initializing RobertaModel from the checkpoint of a model trained on another task or with another architecture (e.g. initializing a BertForSequenceClassification model from a BertForPreTraining model).\n",
      "- This IS NOT expected if you are initializing RobertaModel from the checkpoint of a model that you expect to be exactly identical (initializing a BertForSequenceClassification model from a BertForSequenceClassification model).\n"
     ]
    }
   ],
   "source": [
    "model_name = 'distilroberta-base'\n",
    "\n",
    "tokenizer = AutoTokenizer.from_pretrained(model_name)\n",
    "bert_model = AutoModel.from_pretrained(model_name)"
   ]
  },
  {
   "cell_type": "code",
   "execution_count": 13,
   "metadata": {},
   "outputs": [],
   "source": [
    "tokenizer_kwargs = {\n",
    "    'return_tensors': 'pt',\n",
    "    'padding':        True,\n",
    "    'truncation':     True,\n",
    "    'max_length':     512,\n",
    "}\n",
    "\n",
    "collate_fn = Collator(tokenizer, tokenizer_kwargs)"
   ]
  },
  {
   "cell_type": "code",
   "execution_count": 14,
   "metadata": {},
   "outputs": [],
   "source": [
    "train_dataloader = torch.utils.data.DataLoader(\n",
    "    dataset=train_dataset,\n",
    "    batch_size=128,\n",
    "    shuffle=True,\n",
    "    collate_fn=collate_fn,\n",
    ")\n",
    "test_dataloader = torch.utils.data.DataLoader(\n",
    "    dataset=test_dataset,\n",
    "    batch_size=128,\n",
    "    shuffle=False,\n",
    "    collate_fn=collate_fn,\n",
    ")"
   ]
  },
  {
   "cell_type": "code",
   "execution_count": 15,
   "metadata": {},
   "outputs": [],
   "source": [
    "pooler = MeanPooler()\n",
    "\n",
    "model = SiameseManhattanBERT(\n",
    "    bert_model=bert_model,\n",
    "    pooler=pooler,\n",
    ").to(device)"
   ]
  },
  {
   "cell_type": "code",
   "execution_count": 16,
   "metadata": {},
   "outputs": [],
   "source": [
    "optimizer = torch.optim.Adam(model.parameters(), lr=1e-5)\n",
    "criterion = torch.nn.MSELoss()"
   ]
  },
  {
   "cell_type": "code",
   "execution_count": 17,
   "metadata": {},
   "outputs": [],
   "source": [
    "n_epochs = 10\n",
    "writer = SummaryWriter()"
   ]
  },
  {
   "cell_type": "code",
   "execution_count": 18,
   "metadata": {
    "scrolled": true
   },
   "outputs": [
    {
     "name": "stdout",
     "output_type": "stream",
     "text": [
      "Epoch [1 / 10]\n",
      "\n"
     ]
    },
    {
     "name": "stderr",
     "output_type": "stream",
     "text": [
      "loop over train batches: 100%|██████████| 30/30 [00:13<00:00,  2.24it/s]\n"
     ]
    },
    {
     "name": "stdout",
     "output_type": "stream",
     "text": [
      "Train loss: 0.3811951686938604\n",
      "\n",
      "Train metrics:\n",
      "{'accuracy': 0.6178666666666667, 'precision': 0.0, 'recall': 0.0, 'f1': 0.0, 'roc_auc': 0.7105588988335556, 'log_loss': 7.104348402751214}\n",
      "\n"
     ]
    },
    {
     "name": "stderr",
     "output_type": "stream",
     "text": [
      "loop over test batches: 100%|██████████| 10/10 [00:01<00:00,  7.82it/s]\n"
     ]
    },
    {
     "name": "stdout",
     "output_type": "stream",
     "text": [
      "Test loss:  0.3827373743057251\n",
      "\n",
      "Test metrics:\n",
      "{'accuracy': 0.6176, 'precision': 0.0, 'recall': 0.0, 'f1': 0.0, 'roc_auc': 0.7176301298588679, 'log_loss': 6.266035835900185}\n",
      "\n",
      "Epoch [2 / 10]\n",
      "\n"
     ]
    },
    {
     "name": "stderr",
     "output_type": "stream",
     "text": [
      "loop over train batches: 100%|██████████| 30/30 [00:13<00:00,  2.28it/s]\n"
     ]
    },
    {
     "name": "stdout",
     "output_type": "stream",
     "text": [
      "Train loss: 0.38181160589059193\n",
      "\n",
      "Train metrics:\n",
      "{'accuracy': 0.6178666666666667, 'precision': 0.0, 'recall': 0.0, 'f1': 0.0, 'roc_auc': 0.6972090447106417, 'log_loss': 5.5332819519519205}\n",
      "\n"
     ]
    },
    {
     "name": "stderr",
     "output_type": "stream",
     "text": [
      "loop over test batches: 100%|██████████| 10/10 [00:01<00:00,  7.89it/s]\n"
     ]
    },
    {
     "name": "stdout",
     "output_type": "stream",
     "text": [
      "Test loss:  0.3814109623432159\n",
      "\n",
      "Test metrics:\n",
      "{'accuracy': 0.6176, 'precision': 0.0, 'recall': 0.0, 'f1': 0.0, 'roc_auc': 0.708142736358315, 'log_loss': 4.296085237297527}\n",
      "\n",
      "Epoch [3 / 10]\n",
      "\n"
     ]
    },
    {
     "name": "stderr",
     "output_type": "stream",
     "text": [
      "loop over train batches: 100%|██████████| 30/30 [00:13<00:00,  2.23it/s]\n"
     ]
    },
    {
     "name": "stdout",
     "output_type": "stream",
     "text": [
      "Train loss: 0.37792660196622213\n",
      "\n",
      "Train metrics:\n",
      "{'accuracy': 0.6178666666666667, 'precision': 0.0, 'recall': 0.0, 'f1': 0.0, 'roc_auc': 0.6570796693392478, 'log_loss': 2.7982189663557313}\n",
      "\n"
     ]
    },
    {
     "name": "stderr",
     "output_type": "stream",
     "text": [
      "loop over test batches: 100%|██████████| 10/10 [00:01<00:00,  7.87it/s]\n"
     ]
    },
    {
     "name": "stdout",
     "output_type": "stream",
     "text": [
      "Test loss:  0.32436237931251527\n",
      "\n",
      "Test metrics:\n",
      "{'accuracy': 0.6176, 'precision': 0.0, 'recall': 0.0, 'f1': 0.0, 'roc_auc': 0.7031429531510829, 'log_loss': 1.3119145934010943}\n",
      "\n",
      "Epoch [4 / 10]\n",
      "\n"
     ]
    },
    {
     "name": "stderr",
     "output_type": "stream",
     "text": [
      "loop over train batches: 100%|██████████| 30/30 [00:13<00:00,  2.23it/s]\n"
     ]
    },
    {
     "name": "stdout",
     "output_type": "stream",
     "text": [
      "Train loss: 0.36409761508305866\n",
      "\n",
      "Train metrics:\n",
      "{'accuracy': 0.6328, 'precision': 0.5316027088036117, 'recall': 0.3286810886252617, 'f1': 0.40620957309184996, 'roc_auc': 0.6261266810048969, 'log_loss': 0.7692702736047616}\n",
      "\n"
     ]
    },
    {
     "name": "stderr",
     "output_type": "stream",
     "text": [
      "loop over test batches: 100%|██████████| 10/10 [00:01<00:00,  7.90it/s]\n"
     ]
    },
    {
     "name": "stdout",
     "output_type": "stream",
     "text": [
      "Test loss:  0.26161422282457353\n",
      "\n",
      "Test metrics:\n",
      "{'accuracy': 0.5232, 'precision': 0.4438095238095238, 'recall': 0.9748953974895398, 'f1': 0.6099476439790575, 'roc_auc': 0.7412361523619572, 'log_loss': 0.721356813019514}\n",
      "\n",
      "Epoch [5 / 10]\n",
      "\n"
     ]
    },
    {
     "name": "stderr",
     "output_type": "stream",
     "text": [
      "loop over train batches: 100%|██████████| 30/30 [00:13<00:00,  2.23it/s]\n"
     ]
    },
    {
     "name": "stdout",
     "output_type": "stream",
     "text": [
      "Train loss: 0.31347309003273643\n",
      "\n",
      "Train metrics:\n",
      "{'accuracy': 0.4162666666666667, 'precision': 0.39488320355951056, 'recall': 0.9909281228192603, 'f1': 0.5647245973354543, 'roc_auc': 0.7218676483565599, 'log_loss': 0.8822590948482355}\n",
      "\n"
     ]
    },
    {
     "name": "stderr",
     "output_type": "stream",
     "text": [
      "loop over test batches: 100%|██████████| 10/10 [00:01<00:00,  7.86it/s]\n"
     ]
    },
    {
     "name": "stdout",
     "output_type": "stream",
     "text": [
      "Test loss:  0.36413970589637756\n",
      "\n",
      "Test metrics:\n",
      "{'accuracy': 0.3872, 'precision': 0.3842443729903537, 'recall': 1.0, 'f1': 0.5551684088269454, 'roc_auc': 0.7431737377241096, 'log_loss': 0.9686330836296082}\n",
      "\n",
      "Epoch [6 / 10]\n",
      "\n"
     ]
    },
    {
     "name": "stderr",
     "output_type": "stream",
     "text": [
      "loop over train batches: 100%|██████████| 30/30 [00:13<00:00,  2.22it/s]\n"
     ]
    },
    {
     "name": "stdout",
     "output_type": "stream",
     "text": [
      "Train loss: 0.2928679202993711\n",
      "\n",
      "Train metrics:\n",
      "{'accuracy': 0.38453333333333334, 'precision': 0.3830526597166533, 'recall': 1.0, 'f1': 0.5539234634712022, 'roc_auc': 0.7388633002044116, 'log_loss': 1.0271163654590647}\n",
      "\n"
     ]
    },
    {
     "name": "stderr",
     "output_type": "stream",
     "text": [
      "loop over test batches: 100%|██████████| 10/10 [00:01<00:00,  7.88it/s]\n"
     ]
    },
    {
     "name": "stdout",
     "output_type": "stream",
     "text": [
      "Test loss:  0.39792837798595426\n",
      "\n",
      "Test metrics:\n",
      "{'accuracy': 0.384, 'precision': 0.38301282051282054, 'recall': 1.0, 'f1': 0.5538818076477405, 'roc_auc': 0.7508983350315432, 'log_loss': 1.0681754980921745}\n",
      "\n",
      "Epoch [7 / 10]\n",
      "\n"
     ]
    },
    {
     "name": "stderr",
     "output_type": "stream",
     "text": [
      "loop over train batches: 100%|██████████| 30/30 [00:13<00:00,  2.28it/s]\n"
     ]
    },
    {
     "name": "stdout",
     "output_type": "stream",
     "text": [
      "Train loss: 0.29130504131317136\n",
      "\n",
      "Train metrics:\n",
      "{'accuracy': 0.384, 'precision': 0.382847982901416, 'recall': 1.0, 'f1': 0.5537094281298299, 'roc_auc': 0.751537454435058, 'log_loss': 1.0796592754562695}\n",
      "\n"
     ]
    },
    {
     "name": "stderr",
     "output_type": "stream",
     "text": [
      "loop over test batches: 100%|██████████| 10/10 [00:01<00:00,  7.87it/s]\n"
     ]
    },
    {
     "name": "stdout",
     "output_type": "stream",
     "text": [
      "Test loss:  0.3961103677749634\n",
      "\n",
      "Test metrics:\n",
      "{'accuracy': 0.3872, 'precision': 0.3842443729903537, 'recall': 1.0, 'f1': 0.5551684088269454, 'roc_auc': 0.7511706809460837, 'log_loss': 1.0664963161945342}\n",
      "\n",
      "Epoch [8 / 10]\n",
      "\n"
     ]
    },
    {
     "name": "stderr",
     "output_type": "stream",
     "text": [
      "loop over train batches: 100%|██████████| 30/30 [00:13<00:00,  2.28it/s]\n"
     ]
    },
    {
     "name": "stdout",
     "output_type": "stream",
     "text": [
      "Train loss: 0.2819138323267301\n",
      "\n",
      "Train metrics:\n",
      "{'accuracy': 0.39466666666666667, 'precision': 0.38686131386861317, 'recall': 0.9986043265875785, 'f1': 0.5576773187840999, 'roc_auc': 0.7437811364829452, 'log_loss': 1.0357280184398094}\n",
      "\n"
     ]
    },
    {
     "name": "stderr",
     "output_type": "stream",
     "text": [
      "loop over test batches: 100%|██████████| 10/10 [00:01<00:00,  7.88it/s]\n"
     ]
    },
    {
     "name": "stdout",
     "output_type": "stream",
     "text": [
      "Test loss:  0.3732678651809692\n",
      "\n",
      "Test metrics:\n",
      "{'accuracy': 0.4096, 'precision': 0.3930921052631579, 'recall': 1.0, 'f1': 0.564344746162928, 'roc_auc': 0.745170941097405, 'log_loss': 1.0071663561582564}\n",
      "\n",
      "Epoch [9 / 10]\n",
      "\n"
     ]
    },
    {
     "name": "stderr",
     "output_type": "stream",
     "text": [
      "loop over train batches: 100%|██████████| 30/30 [00:13<00:00,  2.24it/s]\n"
     ]
    },
    {
     "name": "stdout",
     "output_type": "stream",
     "text": [
      "Train loss: 0.2755727122227351\n",
      "\n",
      "Train metrics:\n",
      "{'accuracy': 0.44, 'precision': 0.40522875816993464, 'recall': 0.9951151430565248, 'f1': 0.5759289176090467, 'roc_auc': 0.7390637362544691, 'log_loss': 0.9554663797269265}\n",
      "\n"
     ]
    },
    {
     "name": "stderr",
     "output_type": "stream",
     "text": [
      "loop over test batches: 100%|██████████| 10/10 [00:01<00:00,  7.83it/s]\n"
     ]
    },
    {
     "name": "stdout",
     "output_type": "stream",
     "text": [
      "Test loss:  0.34384775459766387\n",
      "\n",
      "Test metrics:\n",
      "{'accuracy': 0.4504, 'precision': 0.40889276373147343, 'recall': 0.9811715481171548, 'f1': 0.5772307692307692, 'roc_auc': 0.742257788280183, 'log_loss': 0.9346191865950823}\n",
      "\n",
      "Epoch [10 / 10]\n",
      "\n"
     ]
    },
    {
     "name": "stderr",
     "output_type": "stream",
     "text": [
      "loop over train batches: 100%|██████████| 30/30 [00:13<00:00,  2.27it/s]\n"
     ]
    },
    {
     "name": "stdout",
     "output_type": "stream",
     "text": [
      "Train loss: 0.2769174804290136\n",
      "\n",
      "Train metrics:\n",
      "{'accuracy': 0.4898666666666667, 'precision': 0.42642550582464744, 'recall': 0.9706908583391486, 'f1': 0.5925452609158679, 'roc_auc': 0.7337762001240264, 'log_loss': 0.8910946500132482}\n",
      "\n"
     ]
    },
    {
     "name": "stderr",
     "output_type": "stream",
     "text": [
      "loop over test batches: 100%|██████████| 10/10 [00:01<00:00,  7.87it/s]"
     ]
    },
    {
     "name": "stdout",
     "output_type": "stream",
     "text": [
      "Test loss:  0.3293678373098373\n",
      "\n",
      "Test metrics:\n",
      "{'accuracy': 0.4864, 'precision': 0.42435424354243545, 'recall': 0.9623430962343096, 'f1': 0.58898847631242, 'roc_auc': 0.7406318425217334, 'log_loss': 0.9024921199902892}\n",
      "\n"
     ]
    },
    {
     "name": "stderr",
     "output_type": "stream",
     "text": [
      "\n"
     ]
    }
   ],
   "source": [
    "train(\n",
    "    n_epochs=n_epochs,\n",
    "    model=model,\n",
    "    train_dataloader=train_dataloader,\n",
    "    test_dataloader=test_dataloader,\n",
    "    optimizer=optimizer,\n",
    "    criterion=criterion,\n",
    "    writer=writer,\n",
    "    device=device,\n",
    ")"
   ]
  },
  {
   "cell_type": "markdown",
   "metadata": {},
   "source": [
    "---"
   ]
  },
  {
   "cell_type": "code",
   "execution_count": 19,
   "metadata": {},
   "outputs": [],
   "source": [
    "model.eval();"
   ]
  },
  {
   "cell_type": "code",
   "execution_count": 20,
   "metadata": {},
   "outputs": [
    {
     "name": "stderr",
     "output_type": "stream",
     "text": [
      "vectorize question1: 100%|██████████| 3750/3750 [00:16<00:00, 228.16it/s]\n",
      "vectorize question2: 100%|██████████| 3750/3750 [00:16<00:00, 230.25it/s]\n"
     ]
    }
   ],
   "source": [
    "train_metrics = compute_metrics_on_df(\n",
    "    model=model,\n",
    "    df=train_dataloader.dataset.df,\n",
    "    tokenizer=train_dataloader.collate_fn.tokenizer,\n",
    "    tokenizer_kwargs=train_dataloader.collate_fn.tokenizer_kwargs,\n",
    ")"
   ]
  },
  {
   "cell_type": "code",
   "execution_count": 21,
   "metadata": {},
   "outputs": [
    {
     "data": {
      "text/plain": [
       "{'accuracy': 0.49306666666666665,\n",
       " 'precision': 0.4278668310727497,\n",
       " 'recall': 0.9685973482205164,\n",
       " 'f1': 0.5935428693607013,\n",
       " 'roc_auc': 0.7405934352751185,\n",
       " 'log_loss': 0.8905066748956839}"
      ]
     },
     "execution_count": 21,
     "metadata": {},
     "output_type": "execute_result"
    }
   ],
   "source": [
    "train_metrics"
   ]
  },
  {
   "cell_type": "code",
   "execution_count": 22,
   "metadata": {},
   "outputs": [
    {
     "name": "stderr",
     "output_type": "stream",
     "text": [
      "vectorize question1: 100%|██████████| 1250/1250 [00:05<00:00, 231.67it/s]\n",
      "vectorize question2: 100%|██████████| 1250/1250 [00:05<00:00, 231.93it/s]\n"
     ]
    }
   ],
   "source": [
    "test_metrics = compute_metrics_on_df(\n",
    "    model=model,\n",
    "    df=test_dataloader.dataset.df,\n",
    "    tokenizer=test_dataloader.collate_fn.tokenizer,\n",
    "    tokenizer_kwargs=test_dataloader.collate_fn.tokenizer_kwargs,\n",
    ")"
   ]
  },
  {
   "cell_type": "code",
   "execution_count": 23,
   "metadata": {},
   "outputs": [
    {
     "data": {
      "text/plain": [
       "{'accuracy': 0.4896,\n",
       " 'precision': 0.42578849721706863,\n",
       " 'recall': 0.9602510460251046,\n",
       " 'f1': 0.589974293059126,\n",
       " 'roc_auc': 0.7400383723198994,\n",
       " 'log_loss': 0.8910870019569993}"
      ]
     },
     "execution_count": 23,
     "metadata": {},
     "output_type": "execute_result"
    }
   ],
   "source": [
    "test_metrics"
   ]
  },
  {
   "cell_type": "code",
   "execution_count": null,
   "metadata": {},
   "outputs": [],
   "source": []
  }
 ],
 "metadata": {
  "interpreter": {
   "hash": "1457a1728d05db363c00391e3074737c9ebdc2935a146b6baa1e446523e7e6bf"
  },
  "kernelspec": {
   "display_name": "Python 3 (ipykernel)",
   "language": "python",
   "name": "python3"
  },
  "language_info": {
   "codemirror_mode": {
    "name": "ipython",
    "version": 3
   },
   "file_extension": ".py",
   "mimetype": "text/x-python",
   "name": "python",
   "nbconvert_exporter": "python",
   "pygments_lexer": "ipython3",
   "version": "3.7.12"
  }
 },
 "nbformat": 4,
 "nbformat_minor": 2
}
